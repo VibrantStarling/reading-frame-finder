{
 "cells": [
  {
   "attachments": {},
   "cell_type": "markdown",
   "metadata": {},
   "source": [
    "# Benchmarking annotation transfer\n",
    "\n",
    "**This code will allow benchmarking of various annotation transfer tools including :**\n",
    "\n",
    "- Liftoff\n",
    "- RGAAT\n",
    "- RATT\n",
    "- Companion (based on RATT)\n",
    "- Segment_liftover\n",
    "\n",
    "**Genomes to be compared are as follows:**"
   ]
  },
  {
   "cell_type": "code",
   "execution_count": null,
   "metadata": {},
   "outputs": [],
   "source": [
    "aspergillus_genomes = {\"Aspergillus aculeatus ATCC 16872\":\"GCA_001890905.1\",\n",
    "\"Aspergillus brasiliensis CBS 101740\":\"GCA_001889945.1\",\n",
    "\"Aspergillus campestris IBT 28561\":\"GCA_002847485.1\",\n",
    "\"Aspergillus carbonarius ITEM 5010\":\"GCA_001990825.1\",\n",
    "\"Aspergillus clavatus NRRL 1\":\"GCA_000002715.1\",\n",
    "\"Aspergillus cristatus GZAAS20.1005\":\"GCA_001717485.1\",\n",
    "\"Aspergillus eucalypticola CBS 122712\":\"GCA_003184535.1\",\n",
    "\"Aspergillus fijiensis CBS 313.89\":\"GCA_003184825.1\",\n",
    "\"Aspergillus fischeri NRRL 181\":\"GCA_000149645.4,\n",
    "\"Aspergillus flavus NRRL3357\":\"GCA_000006275.3\",\n",
    "\"Aspergillus flavus NRRL3357 2020\":\"GCA_009017415.1\",\n",
    "\"Aspergillus fumigatus A1163\":\"GCA_000150145.1\",\n",
    "\"Aspergillus fumigatus Af293\":\"GCA_000002655.1\",\n",
    "\"Aspergillus glaucus CBS 516.65\":\"GCA_001890805.1\",\n",
    "\"Aspergillus heteromorphus CBS 117.55\":\"GCA_003184545.1\",\n",
    "\"Aspergillus lentulus strain IFM 54703\":\"GCA_001445615.2\",\n",
    "\"Aspergillus luchuensis IFO 4308\":\"GCA_000239835.2\",\n",
    "\"Aspergillus nidulans FGSC A4\":\"GCA_000149205.2\",\n",
    "\"Aspergillus niger ATCC 1015\":\"GCA_000230395.2\",\n",
    "\"Aspergillus niger ATCC 13496\":\"GCA_003344705.1\",\n",
    "\"Aspergillus niger CBS 513.88\":\"GCA_000002855.2\",\n",
    "\"Aspergillus niger strain N402 (ATCC64974)\":\"GCA_900248155.1\",\n",
    "\"Aspergillus novofumigatus IBT 16806\":\"GCA_002847465.1\",\n",
    "\"Aspergillus ochraceoroseus IBT 24754\":\"GCA_002846915.2\",\n",
    "\"Aspergillus oryzae RIB40\":\"GCA_000184455.3\",\n",
    "\"Aspergillus parasiticus CBS 117618\":\"GCA_009176385.1\",\n",
    "\"Aspergillus steynii IBT 23096\":\"GCA_002849105.1\",\n",
    "\"Aspergillus tanneri NIH1004\":\"GCA_004798825.1\",\n",
    "\"Aspergillus terreus NIH2624\":\"GCA_000149615.1\",\n",
    "\"Aspergillus thermomutatus strain HMR AF 39\":\"GCA_002237265.2\",\n",
    "\"Aspergillus uvarum CBS 121591\":\"GCA_003184745.1\",\n",
    "\"Aspergillus wentii DTO 134E9\":\"GCA_001890725.1\"}"
   ]
  },
  {
   "attachments": {},
   "cell_type": "markdown",
   "metadata": {},
   "source": [
    "## Genome quality checks\n",
    "\n",
    "First, quailty checks with ANI, AAI and BUSCO"
   ]
  },
  {
   "cell_type": "code",
   "execution_count": null,
   "metadata": {
    "vscode": {
     "languageId": "shellscript"
    }
   },
   "outputs": [],
   "source": [
    "for seq1 in $(cat names)\n",
    "do\n",
    "\n",
    "for seq2 in $(cat names)\n",
    "do\n",
    "# run ANI \n",
    "# Konstantinidis & Tiedje, 2005, PNAS; Altschul et al, 2000, JMB (BLAST); Kent WJ, 2002, Genome Res (BLAT); Rodriguez-R & Konstantinidis, 2016, PeerJ Preprints. \n",
    "echo \"$(tput setab 6)$(tput setaf 0)running ANI anaylsis for ${seq1} and ${seq2} ... $(tput sgr 0)\"\n",
    "ani.rb --seq1 ${seq1}_Genome.fasta --seq2 ${seq2}_Genome.fasta --tab temp\n",
    "printf '${seq1}\\t${seq2}\\t$(cat temp)\\n' >> ANI-list.tsv\n",
    "done\n",
    "\n",
    "for seq2 in $(cat names)\n",
    "do\n",
    "# run AAI \n",
    "# Konstantinidis & Tiedje, 2005, PNAS; Altschul et al, 2000, JMB (BLAST); Kent WJ, 2002, Genome Res (BLAT); Rodriguez-R & Konstantinidis, 2016, PeerJ Preprints. \n",
    "echo \"$(tput setab 6)$(tput setaf 0)running ANI anaylsis for ${seq1} and ${seq2} ... $(tput sgr 0)\"\n",
    "aai.rb --seq1 ${seq1}_AnnotatedProteins.fasta --seq2 ${seq2}_AnnotatedProteins.fasta --tab temp\n",
    "printf \"${seq1}\\t${seq2}\\t$(cat temp)\\n\" >> AAI-list.tsv\n",
    "done\n",
    "\n",
    "    "
   ]
  },
  {
   "cell_type": "code",
   "execution_count": null,
   "metadata": {
    "vscode": {
     "languageId": "shellscript"
    }
   },
   "outputs": [],
   "source": [
    "for seq1 in $(cat names)\n",
    "do\n",
    "\n",
    "# run BUSCO\n",
    "# Manni M., Berkeley M.R., Seppey M., Simao F.A., Zdobnov E.M. 2021. BUSCO update: novel and streamlined workflows along with broader and deeper phylogenetic coverage for scoring of eukaryotic, prokaryotic, and viral genomes. arXiv:2106.11799 [q-bio] [Internet]. Available from: http://arxiv.org/abs/2106.11799\n",
    "echo \"$(tput setab 6)$(tput setaf 0)Running BUSCO analysis for ${i} ... $(tput sgr 0)\"\n",
    "busco -i ${seq1}_Genome.fasta -o ${seq1}-BUSCO-out -m genome --auto-lineage-euk\n",
    "\n",
    "done"
   ]
  },
  {
   "attachments": {},
   "cell_type": "markdown",
   "metadata": {},
   "source": [
    "## Program tests"
   ]
  },
  {
   "cell_type": "code",
   "execution_count": null,
   "metadata": {
    "vscode": {
     "languageId": "shellscript"
    }
   },
   "outputs": [],
   "source": [
    "# liftoff\n",
    "for seq1 in $(cat names)\n",
    "do\n",
    "echo \"$(tput setab 6)$(tput setaf 0)Running liftoff for ${seq1} ... $(tput sgr 0)\"\n",
    "mkdir ${seq1}-liftoff\n",
    "cut -f3 ${seq1}.gff | sort | uniq | grep -v \"#\" > ${seq1}-liftoff/${seq1}-features\n",
    "liftoff -g ${seq1}.gff -o ${seq1}-liftoff/${seq1}-lifted_annotations.gff3 -f ${seq1}-liftoff/${seq1}-features -u ${seq1}-liftoff/${seq1}-unmapped-features -polish ${seq1}_Genome.fasta ${seq1}_Genome.fasta\n",
    "echo \"$(tput setab 6)$(tput setaf 0)Completed liftoff for ${seq1} ... $(tput sgr 0)\"\n",
    "done"
   ]
  },
  {
   "attachments": {},
   "cell_type": "markdown",
   "metadata": {},
   "source": [
    "## Assessing the model transfers\n",
    "\n",
    "*Notes*\n",
    "TNR (true negative rate) is the same as SP (specificity), but in the context of AED (annotation edit distance), SP is the same as PPV (positive predictive value)\n",
    "TPR (true positive rate) is the same as SN (sensitivity)\n"
   ]
  },
  {
   "cell_type": "code",
   "execution_count": null,
   "metadata": {},
   "outputs": [],
   "source": [
    "import numpy as np\n",
    "import gffutils\n",
    "\n",
    "def read_gff_pair(og_gff,new_gff):\n",
    "    # access the coding and none coding genes by location\n",
    "    # make sure the annotations match between the original \n",
    "    # annotation and the newly transferred annotation\n",
    "    fn1 = gffutils.example_filename(og_gff)\n",
    "    fn2 = gffutils.example_filename(new_gff)\n",
    "\n",
    "    db1 = gffutils.create_db(fn1, dbfn=str(og_gff)+\".db\", force=True)\n",
    "    db2 = gffutils.create_db(fn2, dbfn=str(new_gff)+\".db\", force=True)\n",
    "\n",
    "    fdb1 = gffutils.FeatureDB(str(og_gff)+\".db\", keep_order=True)\n",
    "    fdb2 = gffutils.FeatureDB(str(new_gff)+\".db\", keep_order=True)\n",
    "\n",
    "    # get gff features\n",
    "    # start, stop, orientation, contig\n",
    "    for i in fdb1.children(gene, featuretype=[\"protein coding gene\", \"none protein coding gene\",\"pseudogene\"], order_by='start'):\n",
    "        start = i.start\n",
    "        end = i.stop\n",
    "        orientation = i.orientation\n",
    "\n"
   ]
  },
  {
   "cell_type": "code",
   "execution_count": null,
   "metadata": {},
   "outputs": [],
   "source": [
    "import numpy as np\n",
    "from math import sqrt\n",
    "\n",
    "def basic_metrics(tally):\n",
    "    tp, tn, fp, fn, _ = tally\n",
    "    return{\n",
    "        \"TPR\": tp/(tp+fn),\n",
    "        \"TNR\": tn/(tn+fp),\n",
    "        \"PPV\": tp/(tp+fp),\n",
    "        \"NPV\": tn/(tn+fn),\n",
    "        \"FPR\": fp/(fp+tn),\n",
    "        \"FNR\": fn/(fn+tp)\n",
    "    }\n",
    "\n",
    "def advanced_metrics(tally, m):\n",
    "    tp, tn, fp, fn, _ = tally\n",
    "    n = tp+tn+fp+fn\n",
    "    po = (tp+tn)/n # observed accuracy\n",
    "    pe = (tp+fn)*(tp+fp)/n**2 + (tn+fp)*(tn+fn)/n**2 # accuracy expected by chance\n",
    "\n",
    "\n",
    "    return {\n",
    "        \"F1\": 2.0*m[\"PPV\"]*m[\"TPR\"]/(m[\"PPV\"] + m[\"TPR\"]), \n",
    "        \"MCC\": (tp*tn - fp*fn) / sqrt((tp+fp)*(tp+fn)*(tn+fp)*(tn+fn)),\n",
    "        \"kappa\": (po - pe) / (1.0 - pe),\n",
    "        \"informedness\": m[\"TPR\"] + m[\"TNR\"] - 1.0,\n",
    "        \"markedness\": m[\"PPV\"] + m[\"NPV\"] - 1.0,\n",
    "        \"AED\": 1 - ((m[\"PPV\"] + m[\"TPR\"])/2)   \n",
    "        }\n",
    "\n",
    "\n",
    "tally = compare_features(og_gff,new_gff)\n",
    "m = basic_metrics(tally)\n",
    "am = advanced_metrics(tally, m)"
   ]
  }
 ],
 "metadata": {
  "kernelspec": {
   "display_name": "Python 3",
   "language": "python",
   "name": "python3"
  },
  "language_info": {
   "codemirror_mode": {
    "name": "ipython",
    "version": 3
   },
   "file_extension": ".py",
   "mimetype": "text/x-python",
   "name": "python",
   "nbconvert_exporter": "python",
   "pygments_lexer": "ipython3",
   "version": "3.8.10"
  },
  "orig_nbformat": 4,
  "vscode": {
   "interpreter": {
    "hash": "f427c4a54fa9612764209ff095b7e3b3f140aa4ab8d4aaa81d38837774a77e5d"
   }
  }
 },
 "nbformat": 4,
 "nbformat_minor": 2
}
